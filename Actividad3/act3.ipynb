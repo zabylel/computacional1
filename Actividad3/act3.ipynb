{
 "metadata": {
  "name": "",
  "signature": "sha256:1709ec22da34154dea5566ca6ef670a1f2003ed5af1f7301b59a67b8450854f4"
 },
 "nbformat": 3,
 "nbformat_minor": 0,
 "worksheets": [
  {
   "cells": [
    {
     "cell_type": "code",
     "collapsed": false,
     "input": [
      "import pandas as pd\n",
      "import numpy as np\n",
      "import matplotlib as plt\n",
      "%matplotlib inline\n",
      "df = pd.read_csv(\"/home/izcabrera/Escritorio/Computacional1/Actividad3/dff12.csv\")"
     ],
     "language": "python",
     "metadata": {},
     "outputs": [],
     "prompt_number": 24
    },
    {
     "cell_type": "code",
     "collapsed": false,
     "input": [
      "df.head(20)"
     ],
     "language": "python",
     "metadata": {},
     "outputs": [
      {
       "html": [
        "<div style=\"max-height:1000px;max-width:1500px;overflow:auto;\">\n",
        "<table border=\"1\" class=\"dataframe\">\n",
        "  <thead>\n",
        "    <tr style=\"text-align: right;\">\n",
        "      <th></th>\n",
        "      <th> Fecha</th>\n",
        "      <th> num estacion</th>\n",
        "      <th> CAPE</th>\n",
        "      <th> CINS</th>\n",
        "    </tr>\n",
        "  </thead>\n",
        "  <tbody>\n",
        "    <tr>\n",
        "      <th>0 </th>\n",
        "      <td>  01 Jan 2015</td>\n",
        "      <td> 76225</td>\n",
        "      <td> 0</td>\n",
        "      <td> 0</td>\n",
        "    </tr>\n",
        "    <tr>\n",
        "      <th>1 </th>\n",
        "      <td>  02 Jan 2015</td>\n",
        "      <td> 76225</td>\n",
        "      <td> 0</td>\n",
        "      <td> 0</td>\n",
        "    </tr>\n",
        "    <tr>\n",
        "      <th>2 </th>\n",
        "      <td>  03 Jan 2015</td>\n",
        "      <td> 76225</td>\n",
        "      <td> 0</td>\n",
        "      <td> 0</td>\n",
        "    </tr>\n",
        "    <tr>\n",
        "      <th>3 </th>\n",
        "      <td>  04 Jan 2015</td>\n",
        "      <td> 76225</td>\n",
        "      <td> 0</td>\n",
        "      <td> 0</td>\n",
        "    </tr>\n",
        "    <tr>\n",
        "      <th>4 </th>\n",
        "      <td>  05 Jan 2015</td>\n",
        "      <td> 76225</td>\n",
        "      <td> 0</td>\n",
        "      <td> 0</td>\n",
        "    </tr>\n",
        "    <tr>\n",
        "      <th>5 </th>\n",
        "      <td>  06 Jan 2015</td>\n",
        "      <td> 76225</td>\n",
        "      <td> 0</td>\n",
        "      <td> 0</td>\n",
        "    </tr>\n",
        "    <tr>\n",
        "      <th>6 </th>\n",
        "      <td>  07 Jan 2015</td>\n",
        "      <td> 76225</td>\n",
        "      <td> 0</td>\n",
        "      <td> 0</td>\n",
        "    </tr>\n",
        "    <tr>\n",
        "      <th>7 </th>\n",
        "      <td>  31 Jan 2015</td>\n",
        "      <td> 76225</td>\n",
        "      <td> 0</td>\n",
        "      <td> 0</td>\n",
        "    </tr>\n",
        "    <tr>\n",
        "      <th>8 </th>\n",
        "      <td>  03 Feb 2015</td>\n",
        "      <td> 76225</td>\n",
        "      <td> 0</td>\n",
        "      <td> 0</td>\n",
        "    </tr>\n",
        "    <tr>\n",
        "      <th>9 </th>\n",
        "      <td>  04 Feb 2015</td>\n",
        "      <td> 76225</td>\n",
        "      <td> 0</td>\n",
        "      <td> 0</td>\n",
        "    </tr>\n",
        "    <tr>\n",
        "      <th>10</th>\n",
        "      <td>  05 Feb 2015</td>\n",
        "      <td> 76225</td>\n",
        "      <td> 0</td>\n",
        "      <td> 0</td>\n",
        "    </tr>\n",
        "    <tr>\n",
        "      <th>11</th>\n",
        "      <td>  06 Feb 2015</td>\n",
        "      <td> 76225</td>\n",
        "      <td> 0</td>\n",
        "      <td> 0</td>\n",
        "    </tr>\n",
        "    <tr>\n",
        "      <th>12</th>\n",
        "      <td>  07 Feb 2015</td>\n",
        "      <td> 76225</td>\n",
        "      <td> 0</td>\n",
        "      <td> 0</td>\n",
        "    </tr>\n",
        "    <tr>\n",
        "      <th>13</th>\n",
        "      <td>  08 Feb 2015</td>\n",
        "      <td> 76225</td>\n",
        "      <td> 0</td>\n",
        "      <td> 0</td>\n",
        "    </tr>\n",
        "    <tr>\n",
        "      <th>14</th>\n",
        "      <td>  09 Feb 2015</td>\n",
        "      <td> 76225</td>\n",
        "      <td> 0</td>\n",
        "      <td> 0</td>\n",
        "    </tr>\n",
        "    <tr>\n",
        "      <th>15</th>\n",
        "      <td>  10 Feb 2015</td>\n",
        "      <td> 76225</td>\n",
        "      <td> 0</td>\n",
        "      <td> 0</td>\n",
        "    </tr>\n",
        "    <tr>\n",
        "      <th>16</th>\n",
        "      <td>  11 Feb 2015</td>\n",
        "      <td> 76225</td>\n",
        "      <td> 0</td>\n",
        "      <td> 0</td>\n",
        "    </tr>\n",
        "    <tr>\n",
        "      <th>17</th>\n",
        "      <td>  12 Feb 2015</td>\n",
        "      <td> 76225</td>\n",
        "      <td> 0</td>\n",
        "      <td> 0</td>\n",
        "    </tr>\n",
        "    <tr>\n",
        "      <th>18</th>\n",
        "      <td>  13 Feb 2015</td>\n",
        "      <td> 76225</td>\n",
        "      <td> 0</td>\n",
        "      <td> 0</td>\n",
        "    </tr>\n",
        "    <tr>\n",
        "      <th>19</th>\n",
        "      <td>  14 Feb 2015</td>\n",
        "      <td> 76225</td>\n",
        "      <td> 0</td>\n",
        "      <td> 0</td>\n",
        "    </tr>\n",
        "  </tbody>\n",
        "</table>\n",
        "</div>"
       ],
       "metadata": {},
       "output_type": "pyout",
       "prompt_number": 25,
       "text": [
        "           Fecha   num estacion   CAPE   CINS\n",
        "0    01 Jan 2015          76225      0      0\n",
        "1    02 Jan 2015          76225      0      0\n",
        "2    03 Jan 2015          76225      0      0\n",
        "3    04 Jan 2015          76225      0      0\n",
        "4    05 Jan 2015          76225      0      0\n",
        "5    06 Jan 2015          76225      0      0\n",
        "6    07 Jan 2015          76225      0      0\n",
        "7    31 Jan 2015          76225      0      0\n",
        "8    03 Feb 2015          76225      0      0\n",
        "9    04 Feb 2015          76225      0      0\n",
        "10   05 Feb 2015          76225      0      0\n",
        "11   06 Feb 2015          76225      0      0\n",
        "12   07 Feb 2015          76225      0      0\n",
        "13   08 Feb 2015          76225      0      0\n",
        "14   09 Feb 2015          76225      0      0\n",
        "15   10 Feb 2015          76225      0      0\n",
        "16   11 Feb 2015          76225      0      0\n",
        "17   12 Feb 2015          76225      0      0\n",
        "18   13 Feb 2015          76225      0      0\n",
        "19   14 Feb 2015          76225      0      0"
       ]
      }
     ],
     "prompt_number": 25
    },
    {
     "cell_type": "code",
     "collapsed": false,
     "input": [
      "df.describe()"
     ],
     "language": "python",
     "metadata": {},
     "outputs": [
      {
       "html": [
        "<div style=\"max-height:1000px;max-width:1500px;overflow:auto;\">\n",
        "<table border=\"1\" class=\"dataframe\">\n",
        "  <thead>\n",
        "    <tr style=\"text-align: right;\">\n",
        "      <th></th>\n",
        "      <th> num estacion</th>\n",
        "      <th> CAPE</th>\n",
        "      <th> CINS</th>\n",
        "    </tr>\n",
        "  </thead>\n",
        "  <tbody>\n",
        "    <tr>\n",
        "      <th>count</th>\n",
        "      <td>   316</td>\n",
        "      <td> 316.000000</td>\n",
        "      <td> 316.000000</td>\n",
        "    </tr>\n",
        "    <tr>\n",
        "      <th>mean</th>\n",
        "      <td> 76225</td>\n",
        "      <td>  37.515791</td>\n",
        "      <td> -61.966329</td>\n",
        "    </tr>\n",
        "    <tr>\n",
        "      <th>std</th>\n",
        "      <td>     0</td>\n",
        "      <td> 112.001271</td>\n",
        "      <td> 104.598926</td>\n",
        "    </tr>\n",
        "    <tr>\n",
        "      <th>min</th>\n",
        "      <td> 76225</td>\n",
        "      <td>   0.000000</td>\n",
        "      <td>-366.730000</td>\n",
        "    </tr>\n",
        "    <tr>\n",
        "      <th>25%</th>\n",
        "      <td> 76225</td>\n",
        "      <td>   0.000000</td>\n",
        "      <td>-125.205000</td>\n",
        "    </tr>\n",
        "    <tr>\n",
        "      <th>50%</th>\n",
        "      <td> 76225</td>\n",
        "      <td>   0.000000</td>\n",
        "      <td>   0.000000</td>\n",
        "    </tr>\n",
        "    <tr>\n",
        "      <th>75%</th>\n",
        "      <td> 76225</td>\n",
        "      <td>  12.190000</td>\n",
        "      <td>   0.000000</td>\n",
        "    </tr>\n",
        "    <tr>\n",
        "      <th>max</th>\n",
        "      <td> 76225</td>\n",
        "      <td> 954.810000</td>\n",
        "      <td>   0.000000</td>\n",
        "    </tr>\n",
        "  </tbody>\n",
        "</table>\n",
        "</div>"
       ],
       "metadata": {},
       "output_type": "pyout",
       "prompt_number": 26,
       "text": [
        "        num estacion        CAPE        CINS\n",
        "count            316  316.000000  316.000000\n",
        "mean           76225   37.515791  -61.966329\n",
        "std                0  112.001271  104.598926\n",
        "min            76225    0.000000 -366.730000\n",
        "25%            76225    0.000000 -125.205000\n",
        "50%            76225    0.000000    0.000000\n",
        "75%            76225   12.190000    0.000000\n",
        "max            76225  954.810000    0.000000"
       ]
      }
     ],
     "prompt_number": 26
    },
    {
     "cell_type": "code",
     "collapsed": false,
     "input": [
      "df.apply(lambda x: sum(x.isnull()),axis=0)"
     ],
     "language": "python",
     "metadata": {},
     "outputs": [
      {
       "metadata": {},
       "output_type": "pyout",
       "prompt_number": 27,
       "text": [
        " Fecha           0\n",
        " num estacion    0\n",
        " CAPE            0\n",
        " CINS            0\n",
        "dtype: int64"
       ]
      }
     ],
     "prompt_number": 27
    },
    {
     "cell_type": "code",
     "collapsed": false,
     "input": [
      "df_clean = df.dropna()"
     ],
     "language": "python",
     "metadata": {},
     "outputs": [],
     "prompt_number": 28
    },
    {
     "cell_type": "code",
     "collapsed": false,
     "input": [
      "df_clean.describe()"
     ],
     "language": "python",
     "metadata": {},
     "outputs": [
      {
       "html": [
        "<div style=\"max-height:1000px;max-width:1500px;overflow:auto;\">\n",
        "<table border=\"1\" class=\"dataframe\">\n",
        "  <thead>\n",
        "    <tr style=\"text-align: right;\">\n",
        "      <th></th>\n",
        "      <th> num estacion</th>\n",
        "      <th> CAPE</th>\n",
        "      <th> CINS</th>\n",
        "    </tr>\n",
        "  </thead>\n",
        "  <tbody>\n",
        "    <tr>\n",
        "      <th>count</th>\n",
        "      <td>   316</td>\n",
        "      <td> 316.000000</td>\n",
        "      <td> 316.000000</td>\n",
        "    </tr>\n",
        "    <tr>\n",
        "      <th>mean</th>\n",
        "      <td> 76225</td>\n",
        "      <td>  37.515791</td>\n",
        "      <td> -61.966329</td>\n",
        "    </tr>\n",
        "    <tr>\n",
        "      <th>std</th>\n",
        "      <td>     0</td>\n",
        "      <td> 112.001271</td>\n",
        "      <td> 104.598926</td>\n",
        "    </tr>\n",
        "    <tr>\n",
        "      <th>min</th>\n",
        "      <td> 76225</td>\n",
        "      <td>   0.000000</td>\n",
        "      <td>-366.730000</td>\n",
        "    </tr>\n",
        "    <tr>\n",
        "      <th>25%</th>\n",
        "      <td> 76225</td>\n",
        "      <td>   0.000000</td>\n",
        "      <td>-125.205000</td>\n",
        "    </tr>\n",
        "    <tr>\n",
        "      <th>50%</th>\n",
        "      <td> 76225</td>\n",
        "      <td>   0.000000</td>\n",
        "      <td>   0.000000</td>\n",
        "    </tr>\n",
        "    <tr>\n",
        "      <th>75%</th>\n",
        "      <td> 76225</td>\n",
        "      <td>  12.190000</td>\n",
        "      <td>   0.000000</td>\n",
        "    </tr>\n",
        "    <tr>\n",
        "      <th>max</th>\n",
        "      <td> 76225</td>\n",
        "      <td> 954.810000</td>\n",
        "      <td>   0.000000</td>\n",
        "    </tr>\n",
        "  </tbody>\n",
        "</table>\n",
        "</div>"
       ],
       "metadata": {},
       "output_type": "pyout",
       "prompt_number": 29,
       "text": [
        "        num estacion        CAPE        CINS\n",
        "count            316  316.000000  316.000000\n",
        "mean           76225   37.515791  -61.966329\n",
        "std                0  112.001271  104.598926\n",
        "min            76225    0.000000 -366.730000\n",
        "25%            76225    0.000000 -125.205000\n",
        "50%            76225    0.000000    0.000000\n",
        "75%            76225   12.190000    0.000000\n",
        "max            76225  954.810000    0.000000"
       ]
      }
     ],
     "prompt_number": 29
    },
    {
     "cell_type": "code",
     "collapsed": false,
     "input": [
      "df.columns"
     ],
     "language": "python",
     "metadata": {},
     "outputs": [
      {
       "metadata": {},
       "output_type": "pyout",
       "prompt_number": 30,
       "text": [
        "Index([u' Fecha', u' num estacion', u' CAPE', u' CINS'], dtype='object')"
       ]
      }
     ],
     "prompt_number": 30
    },
    {
     "cell_type": "code",
     "collapsed": false,
     "input": [
      "df_clean = df.dropna()"
     ],
     "language": "python",
     "metadata": {},
     "outputs": [],
     "prompt_number": 31
    },
    {
     "cell_type": "code",
     "collapsed": false,
     "input": [
      "df_clean.describe()"
     ],
     "language": "python",
     "metadata": {},
     "outputs": [
      {
       "html": [
        "<div style=\"max-height:1000px;max-width:1500px;overflow:auto;\">\n",
        "<table border=\"1\" class=\"dataframe\">\n",
        "  <thead>\n",
        "    <tr style=\"text-align: right;\">\n",
        "      <th></th>\n",
        "      <th> num estacion</th>\n",
        "      <th> CAPE</th>\n",
        "      <th> CINS</th>\n",
        "    </tr>\n",
        "  </thead>\n",
        "  <tbody>\n",
        "    <tr>\n",
        "      <th>count</th>\n",
        "      <td>   316</td>\n",
        "      <td> 316.000000</td>\n",
        "      <td> 316.000000</td>\n",
        "    </tr>\n",
        "    <tr>\n",
        "      <th>mean</th>\n",
        "      <td> 76225</td>\n",
        "      <td>  37.515791</td>\n",
        "      <td> -61.966329</td>\n",
        "    </tr>\n",
        "    <tr>\n",
        "      <th>std</th>\n",
        "      <td>     0</td>\n",
        "      <td> 112.001271</td>\n",
        "      <td> 104.598926</td>\n",
        "    </tr>\n",
        "    <tr>\n",
        "      <th>min</th>\n",
        "      <td> 76225</td>\n",
        "      <td>   0.000000</td>\n",
        "      <td>-366.730000</td>\n",
        "    </tr>\n",
        "    <tr>\n",
        "      <th>25%</th>\n",
        "      <td> 76225</td>\n",
        "      <td>   0.000000</td>\n",
        "      <td>-125.205000</td>\n",
        "    </tr>\n",
        "    <tr>\n",
        "      <th>50%</th>\n",
        "      <td> 76225</td>\n",
        "      <td>   0.000000</td>\n",
        "      <td>   0.000000</td>\n",
        "    </tr>\n",
        "    <tr>\n",
        "      <th>75%</th>\n",
        "      <td> 76225</td>\n",
        "      <td>  12.190000</td>\n",
        "      <td>   0.000000</td>\n",
        "    </tr>\n",
        "    <tr>\n",
        "      <th>max</th>\n",
        "      <td> 76225</td>\n",
        "      <td> 954.810000</td>\n",
        "      <td>   0.000000</td>\n",
        "    </tr>\n",
        "  </tbody>\n",
        "</table>\n",
        "</div>"
       ],
       "metadata": {},
       "output_type": "pyout",
       "prompt_number": 32,
       "text": [
        "        num estacion        CAPE        CINS\n",
        "count            316  316.000000  316.000000\n",
        "mean           76225   37.515791  -61.966329\n",
        "std                0  112.001271  104.598926\n",
        "min            76225    0.000000 -366.730000\n",
        "25%            76225    0.000000 -125.205000\n",
        "50%            76225    0.000000    0.000000\n",
        "75%            76225   12.190000    0.000000\n",
        "max            76225  954.810000    0.000000"
       ]
      }
     ],
     "prompt_number": 32
    },
    {
     "cell_type": "code",
     "collapsed": false,
     "input": [
      "df.columns"
     ],
     "language": "python",
     "metadata": {},
     "outputs": [
      {
       "metadata": {},
       "output_type": "pyout",
       "prompt_number": 33,
       "text": [
        "Index([u' Fecha', u' num estacion', u' CAPE', u' CINS'], dtype='object')"
       ]
      }
     ],
     "prompt_number": 33
    },
    {
     "cell_type": "code",
     "collapsed": false,
     "input": [
      "df_clean[u' CAPE'].hist(bins=100)"
     ],
     "language": "python",
     "metadata": {},
     "outputs": [
      {
       "metadata": {},
       "output_type": "pyout",
       "prompt_number": 34,
       "text": [
        "<matplotlib.axes._subplots.AxesSubplot at 0x7fa1268b89d0>"
       ]
      },
      {
       "metadata": {},
       "output_type": "display_data",
       "png": "[encoded data removed]",
       "text": [
        "<matplotlib.figure.Figure at 0x7fa12cbf70d0>"
       ]
      }
     ],
     "prompt_number": 34
    },
    {
     "cell_type": "code",
     "collapsed": false,
     "input": [
      "df_clean[u' CINS'].hist(bins=100)"
     ],
     "language": "python",
     "metadata": {},
     "outputs": [
      {
       "metadata": {},
       "output_type": "pyout",
       "prompt_number": 35,
       "text": [
        "<matplotlib.axes._subplots.AxesSubplot at 0x7fa1268b86d0>"
       ]
      },
      {
       "metadata": {},
       "output_type": "display_data",
       "png": "[encoded data removed]",
       "text": [
        "<matplotlib.figure.Figure at 0x7fa126aa9510>"
       ]
      }
     ],
     "prompt_number": 35
    },
    {
     "cell_type": "code",
     "collapsed": false,
     "input": [],
     "language": "python",
     "metadata": {},
     "outputs": []
    }
   ],
   "metadata": {}
  }
 ]
}
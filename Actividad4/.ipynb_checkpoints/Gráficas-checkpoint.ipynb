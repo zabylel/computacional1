{
 "metadata": {
  "name": "",
  "signature": "sha256:99c0084e6615c1fd87761d58b571b07b6f0f96caf9b8ad6f48d43ee97d0d5b89"
 },
 "nbformat": 3,
 "nbformat_minor": 0,
 "worksheets": []
}
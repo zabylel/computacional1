{
 "metadata": {
  "name": "",
  "signature": "sha256:00ea69c9a3f9a25db594743721b56c5c5d9584ec14805ecb77fab5ed6f43287a"
 },
 "nbformat": 3,
 "nbformat_minor": 0,
 "worksheets": [
  {
   "cells": [
    {
     "cell_type": "code",
     "collapsed": false,
     "input": [
      "3*7"
     ],
     "language": "python",
     "metadata": {},
     "outputs": [
      {
       "metadata": {},
       "output_type": "pyout",
       "prompt_number": 1,
       "text": [
        "21"
       ]
      }
     ],
     "prompt_number": 1
    },
    {
     "cell_type": "code",
     "collapsed": false,
     "input": [
      "print ('Hello world!')\n",
      "print ('What is your name?')\n",
      "myName= raw_input ()\n",
      "print ('Hoy many times would you like your name to repeat?')\n",
      "counter=int(raw_input())\n",
      "for x in range(counter):\n",
      "    print('It is nice to meet you, ' + myName)\n"
     ],
     "language": "python",
     "metadata": {},
     "outputs": [
      {
       "output_type": "stream",
       "stream": "stdout",
       "text": [
        "Hello world!\n",
        "What is your name?\n"
       ]
      },
      {
       "name": "stdout",
       "output_type": "stream",
       "stream": "stdout",
       "text": [
        "zaby\n"
       ]
      },
      {
       "output_type": "stream",
       "stream": "stdout",
       "text": [
        "Hoy many times would you like your name to repeat?\n"
       ]
      },
      {
       "name": "stdout",
       "output_type": "stream",
       "stream": "stdout",
       "text": [
        "3\n"
       ]
      },
      {
       "output_type": "stream",
       "stream": "stdout",
       "text": [
        "It is nice to meet you, zaby\n",
        "It is nice to meet you, zaby\n",
        "It is nice to meet you, zaby\n"
       ]
      }
     ],
     "prompt_number": 6
    },
    {
     "cell_type": "code",
     "collapsed": false,
     "input": [
      "from matplotlib import pyplot as plt\n",
      "import numpy as np\n",
      "\n",
      "x = np.linspace(0, 10)\n",
      "\n",
      "with plt.style.context('fivethirtyeight'):\n",
      "    plt.plot(x, np.sin(x) + x + np.random.randn(50))\n",
      "    plt.plot(x, np.sin(x) + 0.5 * x + np.random.randn(50))\n",
      "    plt.plot(x, np.sin(x) + 2 * x + np.random.randn(50))\n",
      "\n",
      "\n",
      "plt.show()"
     ],
     "language": "python",
     "metadata": {},
     "outputs": [],
     "prompt_number": 13
    },
    {
     "cell_type": "code",
     "collapsed": false,
     "input": [],
     "language": "python",
     "metadata": {},
     "outputs": []
    }
   ],
   "metadata": {}
  }
 ]
}